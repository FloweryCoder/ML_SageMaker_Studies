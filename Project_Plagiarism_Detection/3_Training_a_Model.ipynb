{
 "cells": [
  {
   "cell_type": "markdown",
   "metadata": {},
   "source": [
    "# Plagiarism Detection Model\n",
    "\n",
    "Now that you've created training and test data, you are ready to define and train a model. Your goal in this notebook, will be to train a binary classification model that learns to label an answer file as either plagiarized or not, based on the features you provide the model.\n",
    "\n",
    "This task will be broken down into a few discrete steps:\n",
    "\n",
    "* Upload your data to S3.\n",
    "* Define a binary classification model and a training script.\n",
    "* Train your model and deploy it.\n",
    "* Evaluate your deployed classifier and answer some questions about your approach.\n",
    "\n",
    "To complete this notebook, you'll have to complete all given exercises and answer all the questions in this notebook.\n",
    "> All your tasks will be clearly labeled **EXERCISE** and questions as **QUESTION**.\n",
    "\n",
    "It will be up to you to explore different classification models and decide on a model that gives you the best performance for this dataset.\n",
    "\n",
    "---"
   ]
  },
  {
   "cell_type": "markdown",
   "metadata": {},
   "source": [
    "## Load Data to S3\n",
    "\n",
    "In the last notebook, you should have created two files: a `training.csv` and `test.csv` file with the features and class labels for the given corpus of plagiarized/non-plagiarized text data. \n",
    "\n",
    ">The below cells load in some AWS SageMaker libraries and creates a default bucket. After creating this bucket, you can upload your locally stored data to S3.\n",
    "\n",
    "Save your train and test `.csv` feature files, locally. To do this you can run the second notebook \"2_Plagiarism_Feature_Engineering\" in SageMaker or you can manually upload your files to this notebook using the upload icon in Jupyter Lab. Then you can upload local files to S3 by using `sagemaker_session.upload_data` and pointing directly to where the training data is saved."
   ]
  },
  {
   "cell_type": "code",
   "execution_count": 34,
   "metadata": {},
   "outputs": [],
   "source": [
    "import pandas as pd\n",
    "import boto3\n",
    "import sagemaker"
   ]
  },
  {
   "cell_type": "code",
   "execution_count": 35,
   "metadata": {},
   "outputs": [],
   "source": [
    "\"\"\"\n",
    "DON'T MODIFY ANYTHING IN THIS CELL THAT IS BELOW THIS LINE\n",
    "\"\"\"\n",
    "# session and role\n",
    "sagemaker_session = sagemaker.Session()\n",
    "role = sagemaker.get_execution_role()\n",
    "\n",
    "# create an S3 bucket\n",
    "bucket = sagemaker_session.default_bucket()"
   ]
  },
  {
   "cell_type": "markdown",
   "metadata": {},
   "source": [
    "## EXERCISE: Upload your training data to S3\n",
    "\n",
    "Specify the `data_dir` where you've saved your `train.csv` file. Decide on a descriptive `prefix` that defines where your data will be uploaded in the default S3 bucket. Finally, create a pointer to your training data by calling `sagemaker_session.upload_data` and passing in the required parameters. It may help to look at the [Session documentation](https://sagemaker.readthedocs.io/en/stable/session.html#sagemaker.session.Session.upload_data) or previous SageMaker code examples.\n",
    "\n",
    "You are expected to upload your entire directory. Later, the training script will only access the `train.csv` file."
   ]
  },
  {
   "cell_type": "code",
   "execution_count": 36,
   "metadata": {},
   "outputs": [],
   "source": [
    "import os\n",
    "\n",
    "# should be the name of directory you created to save your features data\n",
    "data_dir = 'plagiarism_data'\n",
    "\n",
    "# set prefix, a descriptive name for a directory  \n",
    "prefix = 'plag_data'\n",
    "\n",
    "train_key = os.path.join(data_dir, 'train.csv')\n",
    "test_key = os.path.join(data_dir, 'test.csv')\n",
    "\n",
    "train_prefix = '{}/{}'.format(prefix, 'train')\n",
    "test_prefix = '{}/{}'.format(prefix, 'test')\n",
    "\n",
    "# upload data to S3, and save unique locations\n",
    "train_path = sagemaker_session.upload_data(train_key, bucket=bucket, key_prefix=train_prefix)\n",
    "test_path = sagemaker_session.upload_data(test_key, bucket=bucket, key_prefix=test_prefix)\n"
   ]
  },
  {
   "cell_type": "markdown",
   "metadata": {},
   "source": [
    "### Test cell\n",
    "\n",
    "Test that your data has been successfully uploaded. The below cell prints out the items in your S3 bucket and will throw an error if it is empty. You should see the contents of your `data_dir` and perhaps some checkpoints. If you see any other files listed, then you may have some old model files that you can delete via the S3 console (though, additional files shouldn't affect the performance of model developed in this notebook)."
   ]
  },
  {
   "cell_type": "code",
   "execution_count": 37,
   "metadata": {},
   "outputs": [
    {
     "name": "stdout",
     "output_type": "stream",
     "text": [
      "plag_data/test/test.csv\n",
      "plag_data/train/train.csv\n",
      "sagemaker-record-sets/LinearLearner-2021-04-10-18-03-20-575/.amazon.manifest\n",
      "sagemaker-record-sets/LinearLearner-2021-04-10-18-03-20-575/matrix_0.pbr\n",
      "sagemaker-scikit-learn-2021-05-11-21-12-03-884/profiler-output/system/incremental/2021051121/1620767640.algo-1.json\n",
      "sagemaker-scikit-learn-2021-05-11-21-12-03-884/profiler-output/system/incremental/2021051121/1620767700.algo-1.json\n",
      "sagemaker-scikit-learn-2021-05-11-21-12-03-884/source/sourcedir.tar.gz\n",
      "sagemaker-scikit-learn-2021-05-12-08-34-11-123/profiler-output/system/incremental/2021051208/1620808560.algo-1.json\n",
      "sagemaker-scikit-learn-2021-05-12-08-34-11-123/profiler-output/system/incremental/2021051208/1620808620.algo-1.json\n",
      "sagemaker-scikit-learn-2021-05-12-08-34-11-123/rule-output/ProfilerReport-1620808451/profiler-output/profiler-report.html\n",
      "sagemaker-scikit-learn-2021-05-12-08-34-11-123/rule-output/ProfilerReport-1620808451/profiler-output/profiler-report.ipynb\n",
      "sagemaker-scikit-learn-2021-05-12-08-34-11-123/rule-output/ProfilerReport-1620808451/profiler-output/profiler-reports/BatchSize.json\n",
      "sagemaker-scikit-learn-2021-05-12-08-34-11-123/rule-output/ProfilerReport-1620808451/profiler-output/profiler-reports/CPUBottleneck.json\n",
      "sagemaker-scikit-learn-2021-05-12-08-34-11-123/rule-output/ProfilerReport-1620808451/profiler-output/profiler-reports/Dataloader.json\n",
      "sagemaker-scikit-learn-2021-05-12-08-34-11-123/rule-output/ProfilerReport-1620808451/profiler-output/profiler-reports/GPUMemoryIncrease.json\n",
      "sagemaker-scikit-learn-2021-05-12-08-34-11-123/rule-output/ProfilerReport-1620808451/profiler-output/profiler-reports/IOBottleneck.json\n",
      "sagemaker-scikit-learn-2021-05-12-08-34-11-123/rule-output/ProfilerReport-1620808451/profiler-output/profiler-reports/LoadBalancing.json\n",
      "sagemaker-scikit-learn-2021-05-12-08-34-11-123/rule-output/ProfilerReport-1620808451/profiler-output/profiler-reports/LowGPUUtilization.json\n",
      "sagemaker-scikit-learn-2021-05-12-08-34-11-123/rule-output/ProfilerReport-1620808451/profiler-output/profiler-reports/MaxInitializationTime.json\n",
      "sagemaker-scikit-learn-2021-05-12-08-34-11-123/rule-output/ProfilerReport-1620808451/profiler-output/profiler-reports/OverallFrameworkMetrics.json\n",
      "sagemaker-scikit-learn-2021-05-12-08-34-11-123/rule-output/ProfilerReport-1620808451/profiler-output/profiler-reports/OverallSystemUsage.json\n",
      "sagemaker-scikit-learn-2021-05-12-08-34-11-123/rule-output/ProfilerReport-1620808451/profiler-output/profiler-reports/StepOutlier.json\n",
      "sagemaker-scikit-learn-2021-05-12-08-34-11-123/source/sourcedir.tar.gz\n",
      "sagemaker-scikit-learn-2021-05-12-08-40-53-810/profiler-output/system/incremental/2021051208/1620808980.algo-1.json\n",
      "sagemaker-scikit-learn-2021-05-12-08-40-53-810/profiler-output/system/incremental/2021051208/1620809040.algo-1.json\n",
      "sagemaker-scikit-learn-2021-05-12-08-40-53-810/source/sourcedir.tar.gz\n",
      "sagemaker-scikit-learn-2021-05-12-08-46-04-661/profiler-output/system/incremental/2021051208/1620809280.algo-1.json\n",
      "sagemaker-scikit-learn-2021-05-12-08-46-04-661/profiler-output/system/incremental/2021051208/1620809340.algo-1.json\n",
      "sagemaker-scikit-learn-2021-05-12-08-46-04-661/rule-output/ProfilerReport-1620809164/profiler-output/profiler-report.html\n",
      "sagemaker-scikit-learn-2021-05-12-08-46-04-661/rule-output/ProfilerReport-1620809164/profiler-output/profiler-report.ipynb\n",
      "sagemaker-scikit-learn-2021-05-12-08-46-04-661/rule-output/ProfilerReport-1620809164/profiler-output/profiler-reports/BatchSize.json\n",
      "sagemaker-scikit-learn-2021-05-12-08-46-04-661/rule-output/ProfilerReport-1620809164/profiler-output/profiler-reports/CPUBottleneck.json\n",
      "sagemaker-scikit-learn-2021-05-12-08-46-04-661/rule-output/ProfilerReport-1620809164/profiler-output/profiler-reports/Dataloader.json\n",
      "sagemaker-scikit-learn-2021-05-12-08-46-04-661/rule-output/ProfilerReport-1620809164/profiler-output/profiler-reports/GPUMemoryIncrease.json\n",
      "sagemaker-scikit-learn-2021-05-12-08-46-04-661/rule-output/ProfilerReport-1620809164/profiler-output/profiler-reports/IOBottleneck.json\n",
      "sagemaker-scikit-learn-2021-05-12-08-46-04-661/rule-output/ProfilerReport-1620809164/profiler-output/profiler-reports/LoadBalancing.json\n",
      "sagemaker-scikit-learn-2021-05-12-08-46-04-661/rule-output/ProfilerReport-1620809164/profiler-output/profiler-reports/LowGPUUtilization.json\n",
      "sagemaker-scikit-learn-2021-05-12-08-46-04-661/rule-output/ProfilerReport-1620809164/profiler-output/profiler-reports/MaxInitializationTime.json\n",
      "sagemaker-scikit-learn-2021-05-12-08-46-04-661/rule-output/ProfilerReport-1620809164/profiler-output/profiler-reports/OverallFrameworkMetrics.json\n",
      "sagemaker-scikit-learn-2021-05-12-08-46-04-661/rule-output/ProfilerReport-1620809164/profiler-output/profiler-reports/OverallSystemUsage.json\n",
      "sagemaker-scikit-learn-2021-05-12-08-46-04-661/rule-output/ProfilerReport-1620809164/profiler-output/profiler-reports/StepOutlier.json\n",
      "sagemaker-scikit-learn-2021-05-12-08-46-04-661/source/sourcedir.tar.gz\n",
      "sagemaker-scikit-learn-2021-05-12-08-54-26-003/profiler-output/system/incremental/2021051208/1620809760.algo-1.json\n",
      "sagemaker-scikit-learn-2021-05-12-08-54-26-003/profiler-output/system/incremental/2021051208/1620809820.algo-1.json\n",
      "sagemaker-scikit-learn-2021-05-12-08-54-26-003/rule-output/ProfilerReport-1620809666/profiler-output/profiler-report.html\n",
      "sagemaker-scikit-learn-2021-05-12-08-54-26-003/rule-output/ProfilerReport-1620809666/profiler-output/profiler-report.ipynb\n",
      "sagemaker-scikit-learn-2021-05-12-08-54-26-003/rule-output/ProfilerReport-1620809666/profiler-output/profiler-reports/BatchSize.json\n",
      "sagemaker-scikit-learn-2021-05-12-08-54-26-003/rule-output/ProfilerReport-1620809666/profiler-output/profiler-reports/CPUBottleneck.json\n",
      "sagemaker-scikit-learn-2021-05-12-08-54-26-003/rule-output/ProfilerReport-1620809666/profiler-output/profiler-reports/Dataloader.json\n",
      "sagemaker-scikit-learn-2021-05-12-08-54-26-003/rule-output/ProfilerReport-1620809666/profiler-output/profiler-reports/GPUMemoryIncrease.json\n",
      "sagemaker-scikit-learn-2021-05-12-08-54-26-003/rule-output/ProfilerReport-1620809666/profiler-output/profiler-reports/IOBottleneck.json\n",
      "sagemaker-scikit-learn-2021-05-12-08-54-26-003/rule-output/ProfilerReport-1620809666/profiler-output/profiler-reports/LoadBalancing.json\n",
      "sagemaker-scikit-learn-2021-05-12-08-54-26-003/rule-output/ProfilerReport-1620809666/profiler-output/profiler-reports/LowGPUUtilization.json\n",
      "sagemaker-scikit-learn-2021-05-12-08-54-26-003/rule-output/ProfilerReport-1620809666/profiler-output/profiler-reports/MaxInitializationTime.json\n",
      "sagemaker-scikit-learn-2021-05-12-08-54-26-003/rule-output/ProfilerReport-1620809666/profiler-output/profiler-reports/OverallFrameworkMetrics.json\n",
      "sagemaker-scikit-learn-2021-05-12-08-54-26-003/rule-output/ProfilerReport-1620809666/profiler-output/profiler-reports/OverallSystemUsage.json\n",
      "sagemaker-scikit-learn-2021-05-12-08-54-26-003/rule-output/ProfilerReport-1620809666/profiler-output/profiler-reports/StepOutlier.json\n",
      "sagemaker-scikit-learn-2021-05-12-08-54-26-003/source/sourcedir.tar.gz\n",
      "sagemaker-scikit-learn-2021-05-12-11-06-48-257/debug-output/training_job_end.ts\n",
      "sagemaker-scikit-learn-2021-05-12-11-06-48-257/output/model.tar.gz\n",
      "sagemaker-scikit-learn-2021-05-12-11-06-48-257/profiler-output/framework/training_job_end.ts\n",
      "sagemaker-scikit-learn-2021-05-12-11-06-48-257/profiler-output/system/incremental/2021051211/1620817740.algo-1.json\n",
      "sagemaker-scikit-learn-2021-05-12-11-06-48-257/profiler-output/system/incremental/2021051211/1620817800.algo-1.json\n",
      "sagemaker-scikit-learn-2021-05-12-11-06-48-257/profiler-output/system/training_job_end.ts\n",
      "sagemaker-scikit-learn-2021-05-12-11-06-48-257/rule-output/ProfilerReport-1620817608/profiler-output/profiler-report.html\n",
      "sagemaker-scikit-learn-2021-05-12-11-06-48-257/rule-output/ProfilerReport-1620817608/profiler-output/profiler-report.ipynb\n",
      "sagemaker-scikit-learn-2021-05-12-11-06-48-257/rule-output/ProfilerReport-1620817608/profiler-output/profiler-reports/BatchSize.json\n",
      "sagemaker-scikit-learn-2021-05-12-11-06-48-257/rule-output/ProfilerReport-1620817608/profiler-output/profiler-reports/CPUBottleneck.json\n",
      "sagemaker-scikit-learn-2021-05-12-11-06-48-257/rule-output/ProfilerReport-1620817608/profiler-output/profiler-reports/Dataloader.json\n",
      "sagemaker-scikit-learn-2021-05-12-11-06-48-257/rule-output/ProfilerReport-1620817608/profiler-output/profiler-reports/GPUMemoryIncrease.json\n",
      "sagemaker-scikit-learn-2021-05-12-11-06-48-257/rule-output/ProfilerReport-1620817608/profiler-output/profiler-reports/IOBottleneck.json\n",
      "sagemaker-scikit-learn-2021-05-12-11-06-48-257/rule-output/ProfilerReport-1620817608/profiler-output/profiler-reports/LoadBalancing.json\n",
      "sagemaker-scikit-learn-2021-05-12-11-06-48-257/rule-output/ProfilerReport-1620817608/profiler-output/profiler-reports/LowGPUUtilization.json\n",
      "sagemaker-scikit-learn-2021-05-12-11-06-48-257/rule-output/ProfilerReport-1620817608/profiler-output/profiler-reports/MaxInitializationTime.json\n",
      "sagemaker-scikit-learn-2021-05-12-11-06-48-257/rule-output/ProfilerReport-1620817608/profiler-output/profiler-reports/OverallFrameworkMetrics.json\n",
      "sagemaker-scikit-learn-2021-05-12-11-06-48-257/rule-output/ProfilerReport-1620817608/profiler-output/profiler-reports/OverallSystemUsage.json\n",
      "sagemaker-scikit-learn-2021-05-12-11-06-48-257/rule-output/ProfilerReport-1620817608/profiler-output/profiler-reports/StepOutlier.json\n",
      "sagemaker-scikit-learn-2021-05-12-11-06-48-257/source/sourcedir.tar.gz\n",
      "sagemaker/moon-data/sagemaker-pytorch-2021-04-14-08-07-19-674/debug-output/training_job_end.ts\n",
      "sagemaker/moon-data/sagemaker-pytorch-2021-04-14-08-07-19-674/output/model.tar.gz\n",
      "sagemaker/moon-data/sagemaker-pytorch-2021-04-14-08-07-19-674/profiler-output/framework/training_job_end.ts\n",
      "sagemaker/moon-data/sagemaker-pytorch-2021-04-14-08-07-19-674/profiler-output/system/incremental/2021041408/1618387740.algo-1.json\n",
      "sagemaker/moon-data/sagemaker-pytorch-2021-04-14-08-07-19-674/profiler-output/system/incremental/2021041408/1618387800.algo-1.json\n",
      "sagemaker/moon-data/sagemaker-pytorch-2021-04-14-08-07-19-674/profiler-output/system/incremental/2021041408/1618387860.algo-1.json\n",
      "sagemaker/moon-data/sagemaker-pytorch-2021-04-14-08-07-19-674/profiler-output/system/training_job_end.ts\n",
      "sagemaker/moon-data/sagemaker-pytorch-2021-04-14-08-07-19-674/rule-output/ProfilerReport-1618387639/profiler-output/profiler-report.html\n",
      "sagemaker/moon-data/sagemaker-pytorch-2021-04-14-08-07-19-674/rule-output/ProfilerReport-1618387639/profiler-output/profiler-report.ipynb\n",
      "sagemaker/moon-data/sagemaker-pytorch-2021-04-14-08-07-19-674/rule-output/ProfilerReport-1618387639/profiler-output/profiler-reports/BatchSize.json\n",
      "sagemaker/moon-data/sagemaker-pytorch-2021-04-14-08-07-19-674/rule-output/ProfilerReport-1618387639/profiler-output/profiler-reports/CPUBottleneck.json\n",
      "sagemaker/moon-data/sagemaker-pytorch-2021-04-14-08-07-19-674/rule-output/ProfilerReport-1618387639/profiler-output/profiler-reports/Dataloader.json\n",
      "sagemaker/moon-data/sagemaker-pytorch-2021-04-14-08-07-19-674/rule-output/ProfilerReport-1618387639/profiler-output/profiler-reports/GPUMemoryIncrease.json\n",
      "sagemaker/moon-data/sagemaker-pytorch-2021-04-14-08-07-19-674/rule-output/ProfilerReport-1618387639/profiler-output/profiler-reports/IOBottleneck.json\n",
      "sagemaker/moon-data/sagemaker-pytorch-2021-04-14-08-07-19-674/rule-output/ProfilerReport-1618387639/profiler-output/profiler-reports/LoadBalancing.json\n",
      "sagemaker/moon-data/sagemaker-pytorch-2021-04-14-08-07-19-674/rule-output/ProfilerReport-1618387639/profiler-output/profiler-reports/LowGPUUtilization.json\n",
      "sagemaker/moon-data/sagemaker-pytorch-2021-04-14-08-07-19-674/rule-output/ProfilerReport-1618387639/profiler-output/profiler-reports/MaxInitializationTime.json\n",
      "sagemaker/moon-data/sagemaker-pytorch-2021-04-14-08-07-19-674/rule-output/ProfilerReport-1618387639/profiler-output/profiler-reports/OverallFrameworkMetrics.json\n",
      "sagemaker/moon-data/sagemaker-pytorch-2021-04-14-08-07-19-674/rule-output/ProfilerReport-1618387639/profiler-output/profiler-reports/OverallSystemUsage.json\n",
      "sagemaker/moon-data/sagemaker-pytorch-2021-04-14-08-07-19-674/rule-output/ProfilerReport-1618387639/profiler-output/profiler-reports/StepOutlier.json\n",
      "sagemaker/moon-data/sagemaker-pytorch-2021-04-14-08-30-11-073/debug-output/training_job_end.ts\n",
      "sagemaker/moon-data/sagemaker-pytorch-2021-04-14-08-30-11-073/output/model.tar.gz\n",
      "sagemaker/moon-data/sagemaker-pytorch-2021-04-14-08-30-11-073/profiler-output/framework/training_job_end.ts\n",
      "sagemaker/moon-data/sagemaker-pytorch-2021-04-14-08-30-11-073/profiler-output/system/incremental/2021041408/1618389120.algo-1.json\n",
      "sagemaker/moon-data/sagemaker-pytorch-2021-04-14-08-30-11-073/profiler-output/system/incremental/2021041408/1618389180.algo-1.json\n",
      "sagemaker/moon-data/sagemaker-pytorch-2021-04-14-08-30-11-073/profiler-output/system/training_job_end.ts\n",
      "sagemaker/moon-data/sagemaker-pytorch-2021-04-14-08-30-11-073/rule-output/ProfilerReport-1618389011/profiler-output/profiler-report.html\n",
      "sagemaker/moon-data/sagemaker-pytorch-2021-04-14-08-30-11-073/rule-output/ProfilerReport-1618389011/profiler-output/profiler-report.ipynb\n",
      "sagemaker/moon-data/sagemaker-pytorch-2021-04-14-08-30-11-073/rule-output/ProfilerReport-1618389011/profiler-output/profiler-reports/BatchSize.json\n",
      "sagemaker/moon-data/sagemaker-pytorch-2021-04-14-08-30-11-073/rule-output/ProfilerReport-1618389011/profiler-output/profiler-reports/CPUBottleneck.json\n",
      "sagemaker/moon-data/sagemaker-pytorch-2021-04-14-08-30-11-073/rule-output/ProfilerReport-1618389011/profiler-output/profiler-reports/Dataloader.json\n",
      "sagemaker/moon-data/sagemaker-pytorch-2021-04-14-08-30-11-073/rule-output/ProfilerReport-1618389011/profiler-output/profiler-reports/GPUMemoryIncrease.json\n",
      "sagemaker/moon-data/sagemaker-pytorch-2021-04-14-08-30-11-073/rule-output/ProfilerReport-1618389011/profiler-output/profiler-reports/IOBottleneck.json\n",
      "sagemaker/moon-data/sagemaker-pytorch-2021-04-14-08-30-11-073/rule-output/ProfilerReport-1618389011/profiler-output/profiler-reports/LoadBalancing.json\n",
      "sagemaker/moon-data/sagemaker-pytorch-2021-04-14-08-30-11-073/rule-output/ProfilerReport-1618389011/profiler-output/profiler-reports/LowGPUUtilization.json\n",
      "sagemaker/moon-data/sagemaker-pytorch-2021-04-14-08-30-11-073/rule-output/ProfilerReport-1618389011/profiler-output/profiler-reports/MaxInitializationTime.json\n",
      "sagemaker/moon-data/sagemaker-pytorch-2021-04-14-08-30-11-073/rule-output/ProfilerReport-1618389011/profiler-output/profiler-reports/OverallFrameworkMetrics.json\n",
      "sagemaker/moon-data/sagemaker-pytorch-2021-04-14-08-30-11-073/rule-output/ProfilerReport-1618389011/profiler-output/profiler-reports/OverallSystemUsage.json\n",
      "sagemaker/moon-data/sagemaker-pytorch-2021-04-14-08-30-11-073/rule-output/ProfilerReport-1618389011/profiler-output/profiler-reports/StepOutlier.json\n",
      "sagemaker/moon-data/train.csv\n",
      "Test passed!\n"
     ]
    }
   ],
   "source": [
    "\"\"\"\n",
    "DON'T MODIFY ANYTHING IN THIS CELL THAT IS BELOW THIS LINE\n",
    "\"\"\"\n",
    "# confirm that data is in S3 bucket\n",
    "empty_check = []\n",
    "for obj in boto3.resource('s3').Bucket(bucket).objects.all():\n",
    "    empty_check.append(obj.key)\n",
    "    print(obj.key)\n",
    "\n",
    "assert len(empty_check) !=0, 'S3 bucket is empty.'\n",
    "print('Test passed!')"
   ]
  },
  {
   "cell_type": "code",
   "execution_count": 38,
   "metadata": {},
   "outputs": [
    {
     "name": "stdout",
     "output_type": "stream",
     "text": [
      "    0         1         2         3         4         5\n",
      "0   0  0.398148  0.000000  0.000000  0.000000  0.191781\n",
      "1   1  0.869369  0.515982  0.449541  0.382488  0.846491\n",
      "2   1  0.593583  0.108696  0.081967  0.060440  0.316062\n",
      "3   0  0.544503  0.005319  0.000000  0.000000  0.242574\n",
      "4   0  0.329502  0.003876  0.000000  0.000000  0.161172\n",
      ".. ..       ...       ...       ...       ...       ...\n",
      "65  1  0.845188  0.347458  0.302128  0.273504  0.643725\n",
      "66  1  0.485000  0.005076  0.000000  0.000000  0.242718\n",
      "67  1  0.950673  0.800000  0.780822  0.761468  0.839506\n",
      "68  1  0.551220  0.252475  0.233831  0.220000  0.283019\n",
      "69  0  0.361257  0.000000  0.000000  0.000000  0.161765\n",
      "\n",
      "[70 rows x 6 columns]\n"
     ]
    },
    {
     "data": {
      "image/png": "[encoded data removed]",
      "text/plain": [
       "<Figure size 432x288 with 1 Axes>"
      ]
     },
     "metadata": {
      "needs_background": "light"
     },
     "output_type": "display_data"
    }
   ],
   "source": [
    "# Plot the Data \n",
    "import matplotlib.pyplot as plt\n",
    "\n",
    "df = pd.read_csv('plagiarism_data/train.csv', header=None)\n",
    "print(df)\n",
    "X = df[1].values\n",
    "Y = df[0].values\n",
    "\n",
    "#scatter plot\n",
    "plt.scatter(X, Y, s=60, c='red')\n",
    "\n",
    "#change axes ranges\n",
    "plt.xlim(0,1)\n",
    "plt.ylim(0,1)\n",
    "\n",
    "#show plot\n",
    "plt.show()"
   ]
  },
  {
   "cell_type": "markdown",
   "metadata": {},
   "source": [
    "---\n",
    "\n",
    "# Modeling\n",
    "\n",
    "Now that you've uploaded your training data, it's time to define and train a model!\n",
    "\n",
    "The type of model you create is up to you. For a binary classification task, you can choose to go one of three routes:\n",
    "* Use a built-in classification algorithm, like LinearLearner.\n",
    "* Define a custom Scikit-learn classifier, a comparison of models can be found [here](https://scikit-learn.org/stable/auto_examples/classification/plot_classifier_comparison.html).\n",
    "* Define a custom PyTorch neural network classifier. \n",
    "\n",
    "It will be up to you to test out a variety of models and choose the best one. Your project will be graded on the accuracy of your final model. \n",
    " \n",
    "---\n",
    "\n",
    "## EXERCISE: Complete a training script \n",
    "\n",
    "To implement a custom classifier, you'll need to complete a `train.py` script. You've been given the folders `source_sklearn` and `source_pytorch` which hold starting code for a custom Scikit-learn model and a PyTorch model, respectively. Each directory has a `train.py` training script. To complete this project **you only need to complete one of these scripts**; the script that is responsible for training your final model.\n",
    "\n",
    "A typical training script:\n",
    "* Loads training data from a specified directory\n",
    "* Parses any training & model hyperparameters (ex. nodes in a neural network, training epochs, etc.)\n",
    "* Instantiates a model of your design, with any specified hyperparams\n",
    "* Trains that model \n",
    "* Finally, saves the model so that it can be hosted/deployed, later\n",
    "\n",
    "### Defining and training a model\n",
    "Much of the training script code is provided for you. Almost all of your work will be done in the `if __name__ == '__main__':` section. To complete a `train.py` file, you will:\n",
    "1. Import any extra libraries you need\n",
    "2. Define any additional model training hyperparameters using `parser.add_argument`\n",
    "2. Define a model in the `if __name__ == '__main__':` section\n",
    "3. Train the model in that same section\n",
    "\n",
    "Below, you can use `!pygmentize` to display an existing `train.py` file. Read through the code; all of your tasks are marked with `TODO` comments. \n",
    "\n",
    "**Note: If you choose to create a custom PyTorch model, you will be responsible for defining the model in the `model.py` file,** and a `predict.py` file is provided. If you choose to use Scikit-learn, you only need a `train.py` file; you may import a classifier from the `sklearn` library."
   ]
  },
  {
   "cell_type": "code",
   "execution_count": 91,
   "metadata": {},
   "outputs": [
    {
     "name": "stdout",
     "output_type": "stream",
     "text": [
      "\u001b[34mfrom\u001b[39;49;00m \u001b[04m\u001b[36m__future__\u001b[39;49;00m \u001b[34mimport\u001b[39;49;00m print_function\r\n",
      "\r\n",
      "\u001b[34mimport\u001b[39;49;00m \u001b[04m\u001b[36margparse\u001b[39;49;00m\r\n",
      "\u001b[34mimport\u001b[39;49;00m \u001b[04m\u001b[36mos\u001b[39;49;00m\r\n",
      "\u001b[34mimport\u001b[39;49;00m \u001b[04m\u001b[36mpandas\u001b[39;49;00m \u001b[34mas\u001b[39;49;00m \u001b[04m\u001b[36mpd\u001b[39;49;00m\r\n",
      "\r\n",
      "\u001b[37m# sklearn.externals.joblib is deprecated in 0.21 and will be removed in 0.23. \u001b[39;49;00m\r\n",
      "\u001b[37m# from sklearn.externals import joblib\u001b[39;49;00m\r\n",
      "\u001b[37m# Import joblib package directly\u001b[39;49;00m\r\n",
      "\u001b[34mimport\u001b[39;49;00m \u001b[04m\u001b[36mjoblib\u001b[39;49;00m\r\n",
      "\r\n",
      "\u001b[37m## TODO: Import any additional libraries you need to define a model\u001b[39;49;00m\r\n",
      "\u001b[34mfrom\u001b[39;49;00m \u001b[04m\u001b[36msklearn\u001b[39;49;00m\u001b[04m\u001b[36m.\u001b[39;49;00m\u001b[04m\u001b[36mnaive_bayes\u001b[39;49;00m \u001b[34mimport\u001b[39;49;00m GaussianNB\r\n",
      "\u001b[34mfrom\u001b[39;49;00m \u001b[04m\u001b[36msklearn\u001b[39;49;00m\u001b[04m\u001b[36m.\u001b[39;49;00m\u001b[04m\u001b[36msvm\u001b[39;49;00m \u001b[34mimport\u001b[39;49;00m SVC\r\n",
      "\u001b[34mfrom\u001b[39;49;00m \u001b[04m\u001b[36msklearn\u001b[39;49;00m\u001b[04m\u001b[36m.\u001b[39;49;00m\u001b[04m\u001b[36mensemble\u001b[39;49;00m \u001b[34mimport\u001b[39;49;00m RandomForestClassifier\r\n",
      "\r\n",
      "\u001b[37m# Provided model load function\u001b[39;49;00m\r\n",
      "\u001b[34mdef\u001b[39;49;00m \u001b[32mmodel_fn\u001b[39;49;00m(model_dir):\r\n",
      "    \u001b[33m\"\"\"Load model from the model_dir. This is the same model that is saved\u001b[39;49;00m\r\n",
      "\u001b[33m    in the main if statement.\u001b[39;49;00m\r\n",
      "\u001b[33m    \"\"\"\u001b[39;49;00m\r\n",
      "    \u001b[36mprint\u001b[39;49;00m(\u001b[33m\"\u001b[39;49;00m\u001b[33mLoading model.\u001b[39;49;00m\u001b[33m\"\u001b[39;49;00m)\r\n",
      "    \r\n",
      "    \u001b[37m# load using joblib\u001b[39;49;00m\r\n",
      "    model = joblib.load(os.path.join(model_dir, \u001b[33m\"\u001b[39;49;00m\u001b[33mmodel.joblib\u001b[39;49;00m\u001b[33m\"\u001b[39;49;00m))\r\n",
      "    \u001b[36mprint\u001b[39;49;00m(\u001b[33m\"\u001b[39;49;00m\u001b[33mDone loading model.\u001b[39;49;00m\u001b[33m\"\u001b[39;49;00m)\r\n",
      "    \r\n",
      "    \u001b[34mreturn\u001b[39;49;00m model\r\n",
      "\r\n",
      "\r\n",
      "\u001b[37m## TODO: Complete the main code\u001b[39;49;00m\r\n",
      "\u001b[34mif\u001b[39;49;00m \u001b[31m__name__\u001b[39;49;00m == \u001b[33m'\u001b[39;49;00m\u001b[33m__main__\u001b[39;49;00m\u001b[33m'\u001b[39;49;00m:\r\n",
      "    \r\n",
      "    \u001b[37m# All of the model parameters and training parameters are sent as arguments\u001b[39;49;00m\r\n",
      "    \u001b[37m# when this script is executed, during a training job\u001b[39;49;00m\r\n",
      "    \r\n",
      "    \u001b[37m# Here we set up an argument parser to easily access the parameters\u001b[39;49;00m\r\n",
      "    parser = argparse.ArgumentParser()\r\n",
      "\r\n",
      "    \u001b[37m# SageMaker parameters, like the directories for training data and saving models; set automatically\u001b[39;49;00m\r\n",
      "    \u001b[37m# Do not need to change\u001b[39;49;00m\r\n",
      "    parser.add_argument(\u001b[33m'\u001b[39;49;00m\u001b[33m--output-data-dir\u001b[39;49;00m\u001b[33m'\u001b[39;49;00m, \u001b[36mtype\u001b[39;49;00m=\u001b[36mstr\u001b[39;49;00m, default=os.environ[\u001b[33m'\u001b[39;49;00m\u001b[33mSM_OUTPUT_DATA_DIR\u001b[39;49;00m\u001b[33m'\u001b[39;49;00m])\r\n",
      "    parser.add_argument(\u001b[33m'\u001b[39;49;00m\u001b[33m--model-dir\u001b[39;49;00m\u001b[33m'\u001b[39;49;00m, \u001b[36mtype\u001b[39;49;00m=\u001b[36mstr\u001b[39;49;00m, default=os.environ[\u001b[33m'\u001b[39;49;00m\u001b[33mSM_MODEL_DIR\u001b[39;49;00m\u001b[33m'\u001b[39;49;00m])\r\n",
      "    parser.add_argument(\u001b[33m'\u001b[39;49;00m\u001b[33m--data-dir\u001b[39;49;00m\u001b[33m'\u001b[39;49;00m, \u001b[36mtype\u001b[39;49;00m=\u001b[36mstr\u001b[39;49;00m, default=os.environ[\u001b[33m'\u001b[39;49;00m\u001b[33mSM_CHANNEL_TRAIN\u001b[39;49;00m\u001b[33m'\u001b[39;49;00m])\r\n",
      "    \r\n",
      "    \u001b[37m## TODO: Add any additional arguments that you will need to pass into your model\u001b[39;49;00m\r\n",
      "    \r\n",
      "    \u001b[37m# args holds all passed-in arguments\u001b[39;49;00m\r\n",
      "    args = parser.parse_args()\r\n",
      "\r\n",
      "    \u001b[37m# Read in csv training file\u001b[39;49;00m\r\n",
      "    training_dir = args.data_dir\r\n",
      "    train_data = pd.read_csv(os.path.join(training_dir, \u001b[33m\"\u001b[39;49;00m\u001b[33mtrain.csv\u001b[39;49;00m\u001b[33m\"\u001b[39;49;00m), header=\u001b[34mNone\u001b[39;49;00m, names=\u001b[34mNone\u001b[39;49;00m)\r\n",
      "\r\n",
      "    \u001b[37m# Labels are in the first column\u001b[39;49;00m\r\n",
      "    train_y = train_data.iloc[:,\u001b[34m0\u001b[39;49;00m]\r\n",
      "    train_x = train_data.iloc[:,\u001b[34m1\u001b[39;49;00m:]\r\n",
      "    \r\n",
      "    \r\n",
      "    \u001b[37m## --- Your code here --- ##\u001b[39;49;00m\r\n",
      "    \r\n",
      "\r\n",
      "    \u001b[37m## TODO: Define a model\u001b[39;49;00m\r\n",
      "    \u001b[37m#model = GaussianNB()\u001b[39;49;00m\r\n",
      "    \u001b[37m#model = SVC(kernel=\"linear\")\u001b[39;49;00m\r\n",
      "    model = RandomForestClassifier(max_depth=\u001b[34m5\u001b[39;49;00m, n_estimators=\u001b[34m10\u001b[39;49;00m, max_features=\u001b[34m1\u001b[39;49;00m)\r\n",
      "    \r\n",
      "    \r\n",
      "    \u001b[37m## TODO: Train the model\u001b[39;49;00m\r\n",
      "    model.fit(train_x, train_y)\r\n",
      "    \r\n",
      "    \r\n",
      "    \u001b[37m## --- End of your code  --- ##\u001b[39;49;00m\r\n",
      "    \r\n",
      "\r\n",
      "    \u001b[37m# Save the trained model\u001b[39;49;00m\r\n",
      "    joblib.dump(model, os.path.join(args.model_dir, \u001b[33m\"\u001b[39;49;00m\u001b[33mmodel.joblib\u001b[39;49;00m\u001b[33m\"\u001b[39;49;00m))\r\n"
     ]
    }
   ],
   "source": [
    "# directory can be changed to: source_sklearn or source_pytorch\n",
    "!pygmentize source_sklearn/train.py"
   ]
  },
  {
   "cell_type": "markdown",
   "metadata": {},
   "source": [
    "### Provided code\n",
    "\n",
    "If you read the code above, you can see that the starter code includes a few things:\n",
    "* Model loading (`model_fn`) and saving code\n",
    "* Getting SageMaker's default hyperparameters\n",
    "* Loading the training data by name, `train.csv` and extracting the features and labels, `train_x`, and `train_y`\n",
    "\n",
    "If you'd like to read more about model saving with [joblib for sklearn](https://scikit-learn.org/stable/modules/model_persistence.html) or with [torch.save](https://pytorch.org/tutorials/beginner/saving_loading_models.html), click on the provided links."
   ]
  },
  {
   "cell_type": "markdown",
   "metadata": {},
   "source": [
    "---\n",
    "# Create an Estimator\n",
    "\n",
    "When a custom model is constructed in SageMaker, an entry point must be specified. This is the Python file which will be executed when the model is trained; the `train.py` function you specified above. To run a custom training script in SageMaker, construct an estimator, and fill in the appropriate constructor arguments:\n",
    "\n",
    "* **entry_point**: The path to the Python script SageMaker runs for training and prediction.\n",
    "* **source_dir**: The path to the training script directory `source_sklearn` OR `source_pytorch`.\n",
    "* **role**: Role ARN, which was specified, above.\n",
    "* **train_instance_count**: The number of training instances (should be left at 1).\n",
    "* **train_instance_type**: The type of SageMaker instance for training. Note: Because Scikit-learn does not natively support GPU training, Sagemaker Scikit-learn does not currently support training on GPU instance types.\n",
    "* **sagemaker_session**: The session used to train on Sagemaker.\n",
    "* **hyperparameters** (optional): A dictionary `{'name':value, ..}` passed to the train function as hyperparameters.\n",
    "\n",
    "Note: For a PyTorch model, there is another optional argument **framework_version**, which you can set to the latest version of PyTorch, `1.0`.\n",
    "\n",
    "## EXERCISE: Define a Scikit-learn or PyTorch estimator\n",
    "\n",
    "To import your desired estimator, use one of the following lines:\n",
    "```\n",
    "from sagemaker.sklearn.estimator import SKLearn\n",
    "```\n",
    "```\n",
    "from sagemaker.pytorch import PyTorch\n",
    "```"
   ]
  },
  {
   "cell_type": "code",
   "execution_count": 83,
   "metadata": {},
   "outputs": [],
   "source": [
    "# your import and estimator code, here\n",
    "from sagemaker.sklearn.estimator import SKLearn\n",
    "\n",
    "input_train = sagemaker.inputs.TrainingInput(s3_data=train_path, content_type='csv')\n",
    "\n",
    "script_path = 'train.py'\n",
    "dir_path = 'source_sklearn'\n",
    "\n",
    "estimator = SKLearn(\n",
    "    entry_point=script_path,\n",
    "    source_dir=dir_path,\n",
    "    instance_count=1,\n",
    "    instance_type=\"ml.c4.xlarge\",\n",
    "    role=role,\n",
    "    sagemaker_session=sagemaker_session, \n",
    "    framework_version=\"0.23-1\", \n",
    "    py_version=\"py3\")"
   ]
  },
  {
   "cell_type": "markdown",
   "metadata": {},
   "source": [
    "## EXERCISE: Train the estimator\n",
    "\n",
    "Train your estimator on the training data stored in S3. This should create a training job that you can monitor in your SageMaker console."
   ]
  },
  {
   "cell_type": "code",
   "execution_count": 84,
   "metadata": {},
   "outputs": [
    {
     "name": "stdout",
     "output_type": "stream",
     "text": [
      "2021-05-12 13:57:15 Starting - Starting the training job...\n",
      "2021-05-12 13:57:39 Starting - Launching requested ML instancesProfilerReport-1620827834: InProgress\n",
      "......\n",
      "2021-05-12 13:58:39 Starting - Preparing the instances for training.........\n",
      "2021-05-12 14:00:07 Downloading - Downloading input data\n",
      "2021-05-12 14:00:07 Training - Downloading the training image...\n",
      "2021-05-12 14:00:43 Uploading - Uploading generated training model\n",
      "2021-05-12 14:00:43 Completed - Training job completed\n",
      "\u001b[34m2021-05-12 14:00:31,172 sagemaker-containers INFO     Imported framework sagemaker_sklearn_container.training\u001b[0m\n",
      "\u001b[34m2021-05-12 14:00:31,174 sagemaker-training-toolkit INFO     No GPUs detected (normal if no gpus installed)\u001b[0m\n",
      "\u001b[34m2021-05-12 14:00:31,184 sagemaker_sklearn_container.training INFO     Invoking user training script.\u001b[0m\n",
      "\u001b[34m2021-05-12 14:00:31,721 sagemaker-training-toolkit INFO     No GPUs detected (normal if no gpus installed)\u001b[0m\n",
      "\u001b[34m2021-05-12 14:00:31,739 sagemaker-training-toolkit INFO     No GPUs detected (normal if no gpus installed)\u001b[0m\n",
      "\u001b[34m2021-05-12 14:00:31,753 sagemaker-training-toolkit INFO     No GPUs detected (normal if no gpus installed)\u001b[0m\n",
      "\u001b[34m2021-05-12 14:00:31,764 sagemaker-training-toolkit INFO     Invoking user script\n",
      "\u001b[0m\n",
      "\u001b[34mTraining Env:\n",
      "\u001b[0m\n",
      "\u001b[34m{\n",
      "    \"additional_framework_parameters\": {},\n",
      "    \"channel_input_dirs\": {\n",
      "        \"train\": \"/opt/ml/input/data/train\"\n",
      "    },\n",
      "    \"current_host\": \"algo-1\",\n",
      "    \"framework_module\": \"sagemaker_sklearn_container.training:main\",\n",
      "    \"hosts\": [\n",
      "        \"algo-1\"\n",
      "    ],\n",
      "    \"hyperparameters\": {},\n",
      "    \"input_config_dir\": \"/opt/ml/input/config\",\n",
      "    \"input_data_config\": {\n",
      "        \"train\": {\n",
      "            \"ContentType\": \"csv\",\n",
      "            \"TrainingInputMode\": \"File\",\n",
      "            \"S3DistributionType\": \"FullyReplicated\",\n",
      "            \"RecordWrapperType\": \"None\"\n",
      "        }\n",
      "    },\n",
      "    \"input_dir\": \"/opt/ml/input\",\n",
      "    \"is_master\": true,\n",
      "    \"job_name\": \"sagemaker-scikit-learn-2021-05-12-13-57-14-962\",\n",
      "    \"log_level\": 20,\n",
      "    \"master_hostname\": \"algo-1\",\n",
      "    \"model_dir\": \"/opt/ml/model\",\n",
      "    \"module_dir\": \"s3://sagemaker-us-east-1-663821446974/sagemaker-scikit-learn-2021-05-12-13-57-14-962/source/sourcedir.tar.gz\",\n",
      "    \"module_name\": \"train\",\n",
      "    \"network_interface_name\": \"eth0\",\n",
      "    \"num_cpus\": 4,\n",
      "    \"num_gpus\": 0,\n",
      "    \"output_data_dir\": \"/opt/ml/output/data\",\n",
      "    \"output_dir\": \"/opt/ml/output\",\n",
      "    \"output_intermediate_dir\": \"/opt/ml/output/intermediate\",\n",
      "    \"resource_config\": {\n",
      "        \"current_host\": \"algo-1\",\n",
      "        \"hosts\": [\n",
      "            \"algo-1\"\n",
      "        ],\n",
      "        \"network_interface_name\": \"eth0\"\n",
      "    },\n",
      "    \"user_entry_point\": \"train.py\"\u001b[0m\n",
      "\u001b[34m}\n",
      "\u001b[0m\n",
      "\u001b[34mEnvironment variables:\n",
      "\u001b[0m\n",
      "\u001b[34mSM_HOSTS=[\"algo-1\"]\u001b[0m\n",
      "\u001b[34mSM_NETWORK_INTERFACE_NAME=eth0\u001b[0m\n",
      "\u001b[34mSM_HPS={}\u001b[0m\n",
      "\u001b[34mSM_USER_ENTRY_POINT=train.py\u001b[0m\n",
      "\u001b[34mSM_FRAMEWORK_PARAMS={}\u001b[0m\n",
      "\u001b[34mSM_RESOURCE_CONFIG={\"current_host\":\"algo-1\",\"hosts\":[\"algo-1\"],\"network_interface_name\":\"eth0\"}\u001b[0m\n",
      "\u001b[34mSM_INPUT_DATA_CONFIG={\"train\":{\"ContentType\":\"csv\",\"RecordWrapperType\":\"None\",\"S3DistributionType\":\"FullyReplicated\",\"TrainingInputMode\":\"File\"}}\u001b[0m\n",
      "\u001b[34mSM_OUTPUT_DATA_DIR=/opt/ml/output/data\u001b[0m\n",
      "\u001b[34mSM_CHANNELS=[\"train\"]\u001b[0m\n",
      "\u001b[34mSM_CURRENT_HOST=algo-1\u001b[0m\n",
      "\u001b[34mSM_MODULE_NAME=train\u001b[0m\n",
      "\u001b[34mSM_LOG_LEVEL=20\u001b[0m\n",
      "\u001b[34mSM_FRAMEWORK_MODULE=sagemaker_sklearn_container.training:main\u001b[0m\n",
      "\u001b[34mSM_INPUT_DIR=/opt/ml/input\u001b[0m\n",
      "\u001b[34mSM_INPUT_CONFIG_DIR=/opt/ml/input/config\u001b[0m\n",
      "\u001b[34mSM_OUTPUT_DIR=/opt/ml/output\u001b[0m\n",
      "\u001b[34mSM_NUM_CPUS=4\u001b[0m\n",
      "\u001b[34mSM_NUM_GPUS=0\u001b[0m\n",
      "\u001b[34mSM_MODEL_DIR=/opt/ml/model\u001b[0m\n",
      "\u001b[34mSM_MODULE_DIR=s3://sagemaker-us-east-1-663821446974/sagemaker-scikit-learn-2021-05-12-13-57-14-962/source/sourcedir.tar.gz\u001b[0m\n",
      "\u001b[34mSM_TRAINING_ENV={\"additional_framework_parameters\":{},\"channel_input_dirs\":{\"train\":\"/opt/ml/input/data/train\"},\"current_host\":\"algo-1\",\"framework_module\":\"sagemaker_sklearn_container.training:main\",\"hosts\":[\"algo-1\"],\"hyperparameters\":{},\"input_config_dir\":\"/opt/ml/input/config\",\"input_data_config\":{\"train\":{\"ContentType\":\"csv\",\"RecordWrapperType\":\"None\",\"S3DistributionType\":\"FullyReplicated\",\"TrainingInputMode\":\"File\"}},\"input_dir\":\"/opt/ml/input\",\"is_master\":true,\"job_name\":\"sagemaker-scikit-learn-2021-05-12-13-57-14-962\",\"log_level\":20,\"master_hostname\":\"algo-1\",\"model_dir\":\"/opt/ml/model\",\"module_dir\":\"s3://sagemaker-us-east-1-663821446974/sagemaker-scikit-learn-2021-05-12-13-57-14-962/source/sourcedir.tar.gz\",\"module_name\":\"train\",\"network_interface_name\":\"eth0\",\"num_cpus\":4,\"num_gpus\":0,\"output_data_dir\":\"/opt/ml/output/data\",\"output_dir\":\"/opt/ml/output\",\"output_intermediate_dir\":\"/opt/ml/output/intermediate\",\"resource_config\":{\"current_host\":\"algo-1\",\"hosts\":[\"algo-1\"],\"network_interface_name\":\"eth0\"},\"user_entry_point\":\"train.py\"}\u001b[0m\n",
      "\u001b[34mSM_USER_ARGS=[]\u001b[0m\n",
      "\u001b[34mSM_OUTPUT_INTERMEDIATE_DIR=/opt/ml/output/intermediate\u001b[0m\n",
      "\u001b[34mSM_CHANNEL_TRAIN=/opt/ml/input/data/train\u001b[0m\n",
      "\u001b[34mPYTHONPATH=/opt/ml/code:/miniconda3/bin:/miniconda3/lib/python37.zip:/miniconda3/lib/python3.7:/miniconda3/lib/python3.7/lib-dynload:/miniconda3/lib/python3.7/site-packages\n",
      "\u001b[0m\n",
      "\u001b[34mInvoking script with the following command:\n",
      "\u001b[0m\n",
      "\u001b[34m/miniconda3/bin/python train.py\n",
      "\n",
      "\u001b[0m\n",
      "\u001b[34m2021-05-12 14:00:33,569 sagemaker-containers INFO     Reporting training SUCCESS\u001b[0m\n",
      "Training seconds: 57\n",
      "Billable seconds: 57\n",
      "CPU times: user 487 ms, sys: 18.1 ms, total: 505 ms\n",
      "Wall time: 3min 42s\n"
     ]
    }
   ],
   "source": [
    "%%time\n",
    "\n",
    "# Train your estimator on S3 training data\n",
    "estimator.fit({'train': input_train})\n"
   ]
  },
  {
   "cell_type": "markdown",
   "metadata": {},
   "source": [
    "## EXERCISE: Deploy the trained model\n",
    "\n",
    "After training, deploy your model to create a `predictor`. If you're using a PyTorch model, you'll need to create a trained `PyTorchModel` that accepts the trained `<model>.model_data` as an input parameter and points to the provided `source_pytorch/predict.py` file as an entry point. \n",
    "\n",
    "To deploy a trained model, you'll use `<model>.deploy`, which takes in two arguments:\n",
    "* **initial_instance_count**: The number of deployed instances (1).\n",
    "* **instance_type**: The type of SageMaker instance for deployment.\n",
    "\n",
    "Note: If you run into an instance error, it may be because you chose the wrong training or deployment instance_type. It may help to refer to your previous exercise code to see which types of instances we used."
   ]
  },
  {
   "cell_type": "code",
   "execution_count": 85,
   "metadata": {},
   "outputs": [
    {
     "name": "stdout",
     "output_type": "stream",
     "text": [
      "-------------!CPU times: user 237 ms, sys: 10.7 ms, total: 248 ms\n",
      "Wall time: 6min 32s\n"
     ]
    }
   ],
   "source": [
    "%%time\n",
    "\n",
    "# uncomment, if needed\n",
    "# from sagemaker.pytorch import PyTorchModel\n",
    "\n",
    "\n",
    "# deploy your model to create a predictor\n",
    "predictor = estimator.deploy(initial_instance_count=1, instance_type=\"ml.m5.xlarge\")\n"
   ]
  },
  {
   "cell_type": "markdown",
   "metadata": {},
   "source": [
    "---\n",
    "# Evaluating Your Model\n",
    "\n",
    "Once your model is deployed, you can see how it performs when applied to our test data.\n",
    "\n",
    "The provided cell below, reads in the test data, assuming it is stored locally in `data_dir` and named `test.csv`. The labels and features are extracted from the `.csv` file."
   ]
  },
  {
   "cell_type": "code",
   "execution_count": 86,
   "metadata": {},
   "outputs": [],
   "source": [
    "\"\"\"\n",
    "DON'T MODIFY ANYTHING IN THIS CELL THAT IS BELOW THIS LINE\n",
    "\"\"\"\n",
    "import os\n",
    "\n",
    "# read in test data, assuming it is stored locally\n",
    "test_data = pd.read_csv(os.path.join(data_dir, \"test.csv\"), header=None, names=None)\n",
    "\n",
    "# labels are in the first column\n",
    "test_y = test_data.iloc[:,0]\n",
    "test_x = test_data.iloc[:,1:]"
   ]
  },
  {
   "cell_type": "markdown",
   "metadata": {},
   "source": [
    "## EXERCISE: Determine the accuracy of your model\n",
    "\n",
    "Use your deployed `predictor` to generate predicted, class labels for the test data. Compare those to the *true* labels, `test_y`, and calculate the accuracy as a value between 0 and 1.0 that indicates the fraction of test data that your model classified correctly. You may use [sklearn.metrics](https://scikit-learn.org/stable/modules/classes.html#module-sklearn.metrics) for this calculation.\n",
    "\n",
    "**To pass this project, your model should get at least 90% test accuracy.**"
   ]
  },
  {
   "cell_type": "code",
   "execution_count": 87,
   "metadata": {},
   "outputs": [
    {
     "name": "stdout",
     "output_type": "stream",
     "text": [
      "Test passed!\n"
     ]
    }
   ],
   "source": [
    "import numpy as np\n",
    "# First: generate predicted, class labels\n",
    "#print(test_x)\n",
    "test_x_np = test_x.values.astype('float32')\n",
    "#print(test_x_np)\n",
    "\n",
    "test_y_preds = predictor.predict(test_x_np)\n",
    "\n",
    "\n",
    "\"\"\"\n",
    "DON'T MODIFY ANYTHING IN THIS CELL THAT IS BELOW THIS LINE\n",
    "\"\"\"\n",
    "# test that your model generates the correct number of labels\n",
    "assert len(test_y_preds)==len(test_y), 'Unexpected number of predictions.'\n",
    "print('Test passed!')"
   ]
  },
  {
   "cell_type": "code",
   "execution_count": 88,
   "metadata": {},
   "outputs": [
    {
     "name": "stdout",
     "output_type": "stream",
     "text": [
      "1\n",
      "0\n",
      "0.96\n",
      "\n",
      "Predicted class labels: \n",
      "[1 1 1 1 1 1 0 0 0 0 0 0 1 1 1 1 1 1 0 1 0 1 1 0 1]\n",
      "\n",
      "True class labels: \n",
      "[1 1 1 1 1 1 0 0 0 0 0 0 1 1 1 1 1 1 0 1 0 1 1 0 0]\n"
     ]
    }
   ],
   "source": [
    "test_labels = test_y.values\n",
    "test_preds = test_y_preds\n",
    "\n",
    "tp = np.logical_and(test_labels, test_preds).sum()\n",
    "fp = np.logical_and(1-test_labels, test_preds).sum()\n",
    "tn = np.logical_and(1-test_labels, 1-test_preds).sum()\n",
    "fn = np.logical_and(test_labels, 1-test_preds).sum()\n",
    "\n",
    "print(fp)\n",
    "print(fn)\n",
    "\n",
    "# Second: calculate the test accuracy\n",
    "accuracy = (tp + tn) / (tp + fp + tn + fn)\n",
    "recall = tp / (tp + fn)\n",
    "precision = tp / (tp + fp)\n",
    "\n",
    "print(accuracy)\n",
    "\n",
    "\n",
    "## print out the array of predicted and true labels, if you want\n",
    "print('\\nPredicted class labels: ')\n",
    "print(test_y_preds)\n",
    "print('\\nTrue class labels: ')\n",
    "print(test_y.values)"
   ]
  },
  {
   "cell_type": "markdown",
   "metadata": {},
   "source": [
    "### Question 1: How many false positives and false negatives did your model produce, if any? And why do you think this is?"
   ]
  },
  {
   "cell_type": "markdown",
   "metadata": {},
   "source": [
    "** Answer**: I used initially Naive Bays algorithm. In my first attmept the model accuracy was 0.88. I got 3 false positive cases and 0 false negative cases. So my model initially classified some non-plagiarized data into plagiarized data. \n",
    "After that I used another model Linear SVM to improve the accuracy, and I got 0.96 accuracy value, with 0 false positive and 1 false negative. Finally, I tested with Random Forest Classifier and I got same accuracy value 0.96 and same false positive value 0 and same false negative value 1. "
   ]
  },
  {
   "cell_type": "markdown",
   "metadata": {},
   "source": [
    "### Question 2: How did you decide on the type of model to use? "
   ]
  },
  {
   "cell_type": "markdown",
   "metadata": {},
   "source": [
    "** Answer**: The dataset is small, and from exploring the data it is linearly separable. Therefore I will use either LinearSVM or RandomForest classifiers, as they both provided better accuracy 0.96 and they worked well on linearly separable data. \n",
    "\n"
   ]
  },
  {
   "cell_type": "markdown",
   "metadata": {},
   "source": [
    "----\n",
    "## EXERCISE: Clean up Resources\n",
    "\n",
    "After you're done evaluating your model, **delete your model endpoint**. You can do this with a call to `.delete_endpoint()`. You need to show, in this notebook, that the endpoint was deleted. Any other resources, you may delete from the AWS console, and you will find more instructions on cleaning up all your resources, below."
   ]
  },
  {
   "cell_type": "code",
   "execution_count": 89,
   "metadata": {},
   "outputs": [],
   "source": [
    "# uncomment and fill in the line below!\n",
    "predictor.delete_endpoint()"
   ]
  },
  {
   "cell_type": "markdown",
   "metadata": {},
   "source": [
    "### Deleting S3 bucket\n",
    "\n",
    "When you are *completely* done with training and testing models, you can also delete your entire S3 bucket. If you do this before you are done training your model, you'll have to recreate your S3 bucket and upload your training data again."
   ]
  },
  {
   "cell_type": "code",
   "execution_count": 90,
   "metadata": {},
   "outputs": [],
   "source": [
    "# deleting bucket, uncomment lines below\n",
    "\n",
    "# bucket_to_delete = boto3.resource('s3').Bucket(bucket)\n",
    "# bucket_to_delete.objects.all().delete()"
   ]
  },
  {
   "cell_type": "markdown",
   "metadata": {},
   "source": [
    "### Deleting all your models and instances\n",
    "\n",
    "When you are _completely_ done with this project and do **not** ever want to revisit this notebook, you can choose to delete all of your SageMaker notebook instances and models by following [these instructions](https://docs.aws.amazon.com/sagemaker/latest/dg/ex1-cleanup.html). Before you delete this notebook instance, I recommend at least downloading a copy and saving it, locally."
   ]
  },
  {
   "cell_type": "markdown",
   "metadata": {},
   "source": [
    "---\n",
    "## Further Directions\n",
    "\n",
    "There are many ways to improve or add on to this project to expand your learning or make this more of a unique project for you. A few ideas are listed below:\n",
    "* Train a classifier to predict the *category* (1-3) of plagiarism and not just plagiarized (1) or not (0).\n",
    "* Utilize a different and larger dataset to see if this model can be extended to other types of plagiarism.\n",
    "* Use language or character-level analysis to find different (and more) similarity features.\n",
    "* Write a complete pipeline function that accepts a source text and submitted text file, and classifies the submitted text as plagiarized or not.\n",
    "* Use API Gateway and a lambda function to deploy your model to a web application.\n",
    "\n",
    "These are all just options for extending your work. If you've completed all the exercises in this notebook, you've completed a real-world application, and can proceed to submit your project. Great job!"
   ]
  },
  {
   "cell_type": "code",
   "execution_count": null,
   "metadata": {},
   "outputs": [],
   "source": []
  }
 ],
 "metadata": {
  "kernelspec": {
   "display_name": "conda_pytorch_p36",
   "language": "python",
   "name": "conda_pytorch_p36"
  },
  "language_info": {
   "codemirror_mode": {
    "name": "ipython",
    "version": 3
   },
   "file_extension": ".py",
   "mimetype": "text/x-python",
   "name": "python",
   "nbconvert_exporter": "python",
   "pygments_lexer": "ipython3",
   "version": "3.6.13"
  }
 },
 "nbformat": 4,
 "nbformat_minor": 2
}
